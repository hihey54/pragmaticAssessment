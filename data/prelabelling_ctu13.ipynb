{
 "cells": [
  {
   "cell_type": "code",
   "execution_count": 1,
   "metadata": {},
   "outputs": [],
   "source": [
    "import pandas as pd, numpy as np"
   ]
  },
  {
   "cell_type": "code",
   "execution_count": 4,
   "metadata": {},
   "outputs": [
    {
     "name": "stdout",
     "output_type": "stream",
     "text": [
      "Read 129832 lines...\n",
      "\t...total length: 129832\n",
      "...done!\n"
     ]
    }
   ],
   "source": [
    "source_folder = \"source_folder\" ## This is the folder containing the source files we downloaded (provide your own path)\n",
    "output_folder = source_folder + \"relabelled\\\\\" # This folder will contain the files after applying the relabeling procedure performed in this notebook\n",
    "\n",
    "## When we downloaded the files, we assigned them the name \"$number-$botnet_argus.csv\"\n",
    "## Remember to run this notebook multiple times -- each for one of the files you downloaded (there should be 12 in total)\n",
    "\n",
    "number = \"5\"\n",
    "botnet = \"virut\"\n",
    "\n",
    "df = pd.DataFrame()\n",
    "\n",
    "filename = number + \"-\" + botnet + \"_argus.csv\"\n",
    "\n",
    "input_file = source_folder + filename\n",
    "temp_df = pd.read_csv(input_file)\n",
    "print(\"Read {} lines...\".format(len(temp_df)))\n",
    "#df = df.append(temp_df) # We used this command since we used pandas < 2.0\n",
    "df = pd.concat([df, temp_df], ignore_index=True) # Use this if pandas >= 2.0\n",
    "print(\"\\t...total length: {}\".format(len(df)))\n",
    "\n",
    "print(\"...done!\")"
   ]
  },
  {
   "cell_type": "code",
   "execution_count": null,
   "metadata": {},
   "outputs": [],
   "source": [
    "# Required ONLY for 10-rbot_argus.csv\n",
    "\n",
    "df['CCDetector'] = df['CCDetector(Normal:CC:Unknown)']\n",
    "df['Label'] = df['Label(Normal:CC:Background)']\n",
    "df = df.drop(columns=['CCDetector(Normal:CC:Unknown)', 'Label(Normal:CC:Background)'])"
   ]
  },
  {
   "cell_type": "code",
   "execution_count": 5,
   "metadata": {},
   "outputs": [
    {
     "data": {
      "text/plain": [
       "array(['flow=Background-Established-cmpgw-CVUT',\n",
       "       'flow=To-Background-CVUT-Proxy', 'flow=Background',\n",
       "       'flow=To-Background-CVUT-WebServer',\n",
       "       'flow=Background-UDP-Established',\n",
       "       'flow=Normal-V46-HTTP-windowsupdate',\n",
       "       'flow=Background-google-analytics2',\n",
       "       'flow=To-Background-UDP-CVUT-DNS-Server',\n",
       "       'flow=Background-UDP-Attempt', 'flow=Background-TCP-Established',\n",
       "       'flow=Background-google-analytics11',\n",
       "       'flow=From-Background-CVUT-Proxy',\n",
       "       'flow=Background-UDP-NTP-Established-1',\n",
       "       'flow=Background-Attempt-cmpgw-CVUT',\n",
       "       'flow=Background-TCP-Attempt',\n",
       "       'flow=Background-google-analytics15',\n",
       "       'flow=Background-google-analytics14',\n",
       "       'flow=From-Normal-V46-Stribrek', 'flow=To-Background-Jist',\n",
       "       'flow=From-Normal-V46-Jist', 'flow=To-Background-Grill',\n",
       "       'flow=Background-google-webmail',\n",
       "       'flow=Background-google-analytics16', 'flow=Background-google-pop',\n",
       "       'flow=Background-google-analytics4',\n",
       "       'flow=Background-google-analytics9',\n",
       "       'flow=Background-google-analytics13',\n",
       "       'flow=From-Normal-V46-UDP-CVUT-DNS-Server',\n",
       "       'flow=From-Normal-V46-Grill', 'flow=To-Normal-V46-UDP-NTP-server',\n",
       "       'flow=To-Background-Stribrek',\n",
       "       'flow=From-Normal-V46-CVUT-WebServer',\n",
       "       'flow=Background-google-analytics5',\n",
       "       'flow=Background-google-analytics1',\n",
       "       'flow=Background-google-analytics8',\n",
       "       'flow=Background-google-analytics3',\n",
       "       'flow=Background-google-analytics6',\n",
       "       'flow=Background-www.fel.cvut.cz', 'flow=Background-ajax.google',\n",
       "       'flow=Background-google-analytics12',\n",
       "       'flow=Background-google-analytics10',\n",
       "       'flow=Background-google-analytics7',\n",
       "       'flow=To-Background-MatLab-Server',\n",
       "       'flow=From-Normal-V46-MatLab-Server',\n",
       "       'flow=From-Botnet-V46-UDP-DNS',\n",
       "       'flow=From-Botnet-V46-TCP-HTTP-Google-Net-Established-6',\n",
       "       'flow=From-Botnet-V46-TCP-WEB-Established',\n",
       "       'flow=From-Botnet-V46-TCP-Established-HTTP-Binary-Download-1',\n",
       "       'flow=From-Botnet-V46-TCP-Established-HTTP-Ad-46',\n",
       "       'flow=From-Botnet-V46-TCP-Attempt',\n",
       "       'flow=From-Botnet-V46-TCP-Established-HTTP-Binary-Download-3',\n",
       "       'flow=From-Botnet-V46-TCP-CC5-Plain-HTTP-Encrypted-Data',\n",
       "       'flow=From-Botnet-V46-TCP-CC12-HTTP-Not-Encrypted',\n",
       "       'flow=From-Botnet-V46-TCP-Attempt-SPAM',\n",
       "       'flow=From-Botnet-V46-TCP-CC1-HTTP-Not-Encrypted',\n",
       "       'flow=From-Botnet-V46-TCP-Not-Encrypted-SMTP-Private-Proxy-1',\n",
       "       'flow=From-Botnet-V46-TCP-CC7-Custom-Encryption',\n",
       "       'flow=From-Botnet-V46-TCP-Established-HTTP-Ad-4',\n",
       "       'flow=From-Botnet-V46-TCP-WEB-Established-SSL',\n",
       "       'flow=From-Botnet-V46-TCP-Established-SSL-To-Microsoft-3',\n",
       "       'flow=From-Botnet-V46-TCP-Established-SSL-To-Microsoft-5',\n",
       "       'flow=From-Botnet-V46-TCP-Established-SSL-To-Microsoft-7',\n",
       "       'flow=From-Botnet-V46-TCP-Established-SSL-To-Microsoft-4',\n",
       "       'flow=From-Botnet-V46-TCP-Established-SSL-To-Microsoft-6',\n",
       "       'flow=From-Botnet-V46-TCP-Established-HTTP-To-Microsoft-Live-1',\n",
       "       'flow=From-Botnet-V46-TCP-Established-HTTP-To-Microsoft-7',\n",
       "       'flow=From-Botnet-V46-TCP-Established-Custom-Encryption-8',\n",
       "       'flow=From-Botnet-V46-TCP-Established-HTTP-To-Microsoft-6',\n",
       "       'flow=From-Botnet-V46-TCP-Established-SPAM',\n",
       "       'flow=From-Botnet-V46-TCP-Established-HTTP-To-Microsoft-Live-2',\n",
       "       'flow=From-Botnet-V46-TCP-HTTP-Google-Net-Established-2',\n",
       "       'flow=From-Botnet-V46-UDP-Attempt-DNS',\n",
       "       'flow=From-Botnet-V46-TCP-Established-HTTP-To-Microsoft-Live-3',\n",
       "       'flow=From-Botnet-V46-TCP-Established-Custom-Encryption-1',\n",
       "       'flow=From-Botnet-V46-TCP-Established-HTTP-To-Microsoft-5',\n",
       "       'flow=From-Botnet-V46-TCP-Established-HTTP-To-Microsoft-4',\n",
       "       'flow=From-Botnet-V46-TCP-Established'], dtype=object)"
      ]
     },
     "execution_count": 5,
     "metadata": {},
     "output_type": "execute_result"
    }
   ],
   "source": [
    "df['Label'].unique()"
   ]
  },
  {
   "cell_type": "code",
   "execution_count": null,
   "metadata": {},
   "outputs": [],
   "source": [
    "# As we can see, there are a lot of different labels for malicious and benign samples"
   ]
  },
  {
   "cell_type": "code",
   "execution_count": 6,
   "metadata": {},
   "outputs": [],
   "source": [
    "# Let's standardize the labelling\n",
    "\n",
    "df['Label2'] = df['Label']\n",
    "df['Label2'] = np.where(df['Label2'].str.contains('Background'), 'BENIGN', df['Label2'])\n",
    "df['Label2'] = np.where(df['Label2'].str.contains('Normal'), 'BENIGN', df['Label2'])\n",
    "df['Label2'] = np.where(df['Label2'].str.contains('Botnet'), botnet, df['Label2'])\n"
   ]
  },
  {
   "cell_type": "code",
   "execution_count": 7,
   "metadata": {},
   "outputs": [
    {
     "data": {
      "text/plain": [
       "array(['BENIGN', 'virut'], dtype=object)"
      ]
     },
     "execution_count": 7,
     "metadata": {},
     "output_type": "execute_result"
    }
   ],
   "source": [
    "df['Label2'].unique()"
   ]
  },
  {
   "cell_type": "code",
   "execution_count": 8,
   "metadata": {},
   "outputs": [],
   "source": [
    "# Saving the output"
   ]
  },
  {
   "cell_type": "code",
   "execution_count": null,
   "metadata": {},
   "outputs": [],
   "source": [
    "df.to_csv(output_folder + filename, index = False)"
   ]
  }
 ],
 "metadata": {
  "kernelspec": {
   "display_name": "Python 3 (ipykernel)",
   "language": "python",
   "name": "python3"
  },
  "language_info": {
   "codemirror_mode": {
    "name": "ipython",
    "version": 3
   },
   "file_extension": ".py",
   "mimetype": "text/x-python",
   "name": "python",
   "nbconvert_exporter": "python",
   "pygments_lexer": "ipython3",
   "version": "3.10.11"
  }
 },
 "nbformat": 4,
 "nbformat_minor": 4
}
