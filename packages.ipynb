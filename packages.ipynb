{
 "cells": [
  {
   "cell_type": "code",
   "execution_count": 3,
   "id": "d2622022-7b36-4beb-b91a-f59f09bb9627",
   "metadata": {},
   "outputs": [
    {
     "name": "stdout",
     "output_type": "stream",
     "text": [
      "Python:  3.10.11 | packaged by Anaconda, Inc. | (main, Apr 20 2023, 18:56:50) [MSC v.1916 64 bit (AMD64)]\n",
      "sklearn:  1.2.2\n",
      "numpy:  1.24.3\n",
      "pandas:  2.0.2\n",
      "mlxtend:  0.22.0\n",
      "ipaddress:  1.0\n"
     ]
    }
   ],
   "source": [
    "import sys\n",
    "import sklearn\n",
    "import numpy\n",
    "import pandas\n",
    "import mlxtend\n",
    "import ipaddress\n",
    "print(\"Python: \",sys.version)\n",
    "print(\"sklearn: \", sklearn.__version__)\n",
    "print(\"numpy: \", numpy.__version__)\n",
    "print(\"pandas: \", pandas.__version__)\n",
    "print(\"mlxtend: \", mlxtend.__version__)\n",
    "print(\"ipaddress: \", ipaddress.__version__)"
   ]
  },
  {
   "cell_type": "code",
   "execution_count": null,
   "id": "221ee28b-0886-478a-8723-e95c0ce1fb78",
   "metadata": {},
   "outputs": [],
   "source": []
  }
 ],
 "metadata": {
  "kernelspec": {
   "display_name": "Python 3 (ipykernel)",
   "language": "python",
   "name": "python3"
  },
  "language_info": {
   "codemirror_mode": {
    "name": "ipython",
    "version": 3
   },
   "file_extension": ".py",
   "mimetype": "text/x-python",
   "name": "python",
   "nbconvert_exporter": "python",
   "pygments_lexer": "ipython3",
   "version": "3.10.11"
  }
 },
 "nbformat": 4,
 "nbformat_minor": 5
}
