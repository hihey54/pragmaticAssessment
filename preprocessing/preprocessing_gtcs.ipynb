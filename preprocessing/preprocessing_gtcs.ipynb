{
 "cells": [
  {
   "cell_type": "code",
   "execution_count": 1,
   "metadata": {},
   "outputs": [],
   "source": [
    "import pandas as pd, numpy as np\n",
    "import ipaddress"
   ]
  },
  {
   "cell_type": "code",
   "execution_count": 2,
   "metadata": {},
   "outputs": [
    {
     "name": "stdout",
     "output_type": "stream",
     "text": [
      "Read 517477 lines...\n",
      "\t...total length: 517477\n",
      "...done!\n"
     ]
    }
   ],
   "source": [
    "source_folder = \"source_folder\" # this is the folder that contains the four CSV files obtained after downloading and extracting the dataset\n",
    "output_folder = \"../data/GTCS/flows/\" # the output of this notebook will be saved in this folder\n",
    "\n",
    "\n",
    "file_names = [\n",
    "    \"GTCS.csv\",\n",
    "]\n",
    "\n",
    "df = pd.DataFrame()\n",
    "\n",
    "for f in file_names:\n",
    "    input_file = source_folder + f\n",
    "    temp_df = pd.read_csv(input_file)\n",
    "    print(\"Read {} lines...\".format(len(temp_df)))\n",
    "    #df = df.append(temp_df) # We used this command since we used pandas < 2.0\n",
    "    df = pd.concat([df, temp_df], ignore_index=True) # Use this if pandas >= 2.0\n",
    "    print(\"\\t...total length: {}\".format(len(df)))\n",
    "\n",
    "print(\"...done!\")"
   ]
  },
  {
   "cell_type": "code",
   "execution_count": 3,
   "metadata": {},
   "outputs": [
    {
     "data": {
      "text/plain": [
       "array(['Normal', 'Infilteration', 'Botnet', 'DDoS', 'BruteForce'],\n",
       "      dtype=object)"
      ]
     },
     "execution_count": 3,
     "metadata": {},
     "output_type": "execute_result"
    }
   ],
   "source": [
    "df['Label'].unique()"
   ]
  },
  {
   "cell_type": "code",
   "execution_count": 4,
   "metadata": {},
   "outputs": [],
   "source": [
    "def fixValues(df):\n",
    "    # Function to fix NaNs and Infinite values\n",
    "    # NaNs are replaced with the MEAN\n",
    "    # Infinite are replaced with the MAX\n",
    "    \n",
    "    \n",
    "    import numpy as np\n",
    "    x = df#.copy(deep=True)\n",
    "    for c in x.columns:\n",
    "        if x[c].dtype == 'int' or x[c].dtype == 'float':\n",
    "            temp = np.asarray(x[c], dtype=np.float64)\n",
    "            # remove NaN & Infinity (if there are)\n",
    "            temp = temp[np.isfinite(temp)]\n",
    "            mean_value = temp.mean()\n",
    "            max_value = temp.max()\n",
    "            x[c].replace([np.inf, -np.inf], max_value, inplace=True)\n",
    "            x[c].replace([np.nan], mean_value, inplace=True)\n",
    "    \n",
    "    return x\n",
    "\n",
    "\n",
    "def uniformPorts(df, srcPort_name, dstPort_name):\n",
    "    # Function to uniformize well-known, registered and dynamic ports \n",
    "\n",
    "    df.rename({srcPort_name: 'SrcPort', dstPort_name: 'DstPort'}, axis=1, inplace=True)\n",
    "        \n",
    "    #converting strings to numeric\n",
    "    df['SrcPort_num'] = pd.to_numeric(df['SrcPort'], errors='coerce')\n",
    "    df['SrcPort_num'].replace([np.nan], -1, inplace=True)\n",
    "    df['DstPort_num'] = pd.to_numeric(df['DstPort'], errors='coerce')\n",
    "    df['DstPort_num'].replace([np.nan], -1, inplace=True)\n",
    "    #determining low&high ports\n",
    "    srcPort_conditions = [\n",
    "        (df['SrcPort_num'] == -1),\n",
    "        (df['SrcPort_num'] >= 0) & (df['SrcPort_num'] <= 1023),\n",
    "        (df['SrcPort_num'] >= 1024) & (df['SrcPort_num'] <= 49151),\n",
    "        (df['SrcPort_num'] > 49151)\n",
    "    ]\n",
    "    dstPort_conditions = [\n",
    "        (df['DstPort_num'] == -1),\n",
    "        (df['DstPort_num'] >= 0) & (df['DstPort_num'] <= 1023),\n",
    "        (df['DstPort_num'] >= 1024) & (df['DstPort_num'] <= 49151),\n",
    "        (df['DstPort_num'] > 49151)\n",
    "    ]    \n",
    "    port_choices = ['none','well-known','registered','dynamic']\n",
    "    df['SrcPort_type'] = np.select(srcPort_conditions, port_choices)\n",
    "    df['DstPort_type'] = np.select(dstPort_conditions, port_choices)\n",
    "    \n",
    "    return df\n",
    "\n",
    "def uniformIP(df, srcIP_name, dstIP_name, internal_network, *, internal_network2 = None):\n",
    "    # Function for assigning IPs to internal/external network\n",
    "    df.rename({srcIP_name: 'SrcIP', dstIP_name: 'DstIP'}, axis=1, inplace=True)\n",
    "    \n",
    "    if internal_network2 == None:\n",
    "        df['SrcIP_internal'] = df['SrcIP'].apply(ipaddress.ip_address).isin(ipaddress.ip_network(internal_network))\n",
    "        df['DstIP_internal'] = df['DstIP'].apply(ipaddress.ip_address).isin(ipaddress.ip_network(internal_network))\n",
    "    else:\n",
    "        df['SrcIP_internal1'] = df['SrcIP'].apply(ipaddress.ip_address).isin(ipaddress.ip_network(internal_network))\n",
    "        df['DstIP_internal1'] = df['DstIP'].apply(ipaddress.ip_address).isin(ipaddress.ip_network(internal_network))\n",
    "        df['SrcIP_internal2'] = df['SrcIP'].apply(ipaddress.ip_address).isin(ipaddress.ip_network(internal_network2))\n",
    "        df['DstIP_internal2'] = df['DstIP'].apply(ipaddress.ip_address).isin(ipaddress.ip_network(internal_network2))\n",
    "        \n",
    "        df['DstIP_internal'] = (df['DstIP_internal1']) | (df['DstIP_internal2'])\n",
    "        df['SrcIP_internal'] = (df['SrcIP_internal1']) | (df['SrcIP_internal2'])\n",
    "        \n",
    "        df.drop(columns=['SrcIP_internal1', 'SrcIP_internal2', 'DstIP_internal1', 'DstIP_internal2'], inplace=True)\n",
    "        \n",
    "    # check internal/external\n",
    "    int_int = df.loc[(df['SrcIP_internal'] == True) & (df['DstIP_internal'] == True)]\n",
    "    int_ext = df.loc[(df['SrcIP_internal'] == True) & (df['DstIP_internal'] == False)]\n",
    "    ext_int = df.loc[(df['SrcIP_internal'] == False) & (df['DstIP_internal'] == True)]\n",
    "    ext_ext = df.loc[(df['SrcIP_internal'] == False) & (df['DstIP_internal'] == False)]\n",
    "\n",
    "    print(\"int_int = {}\\n int_ext = {}\\n ext_int = {}\\n ext_ext = {}\".format(len(int_int), len(int_ext), len(ext_int), len(ext_ext)))\n",
    "        \n",
    "    return df"
   ]
  },
  {
   "cell_type": "code",
   "execution_count": 5,
   "metadata": {},
   "outputs": [
    {
     "data": {
      "text/plain": [
       "array(['Normal', 'Infilteration', 'Botnet', 'DDoS', 'BruteForce'],\n",
       "      dtype=object)"
      ]
     },
     "execution_count": 5,
     "metadata": {},
     "output_type": "execute_result"
    }
   ],
   "source": [
    "df.columns = df.columns.str.replace(' ', '')\n",
    "df.columns = df.columns.str.replace(\"'\", \"\")\n",
    "df = fixValues(df)\n",
    "df['Label'].unique()"
   ]
  },
  {
   "cell_type": "code",
   "execution_count": 6,
   "metadata": {},
   "outputs": [
    {
     "data": {
      "text/plain": [
       "Index(['FlowID', 'SrcIP', 'SrcPort', 'DstIP', 'DstPort', 'Protocol',\n",
       "       'Timestamp', 'FlowDuration', 'TotFwdPkts', 'TotBwdPkts',\n",
       "       'TotLenFwdPkts', 'TotLenBwdPkts', 'FwdPktLenMax', 'FwdPktLenMin',\n",
       "       'FwdPktLenMean', 'FwdPktLenStd', 'BwdPktLenMax', 'BwdPktLenMin',\n",
       "       'BwdPktLenMean', 'BwdPktLenStd', 'FlowByts/s', 'FlowPkts/s',\n",
       "       'FlowIATMean', 'FlowIATStd', 'FlowIATMax', 'FlowIATMin', 'FwdIATTot',\n",
       "       'FwdIATMean', 'FwdIATStd', 'FwdIATMax', 'FwdIATMin', 'BwdIATTot',\n",
       "       'BwdIATMean', 'BwdIATStd', 'BwdIATMax', 'BwdIATMin', 'FwdPSHFlags',\n",
       "       'BwdPSHFlags', 'FwdURGFlags', 'BwdURGFlags', 'FwdHeaderLen',\n",
       "       'BwdHeaderLen', 'FwdPkts/s', 'BwdPkts/s', 'PktLenMin', 'PktLenMax',\n",
       "       'PktLenMean', 'PktLenStd', 'PktLenVar', 'FINFlagCnt', 'SYNFlagCnt',\n",
       "       'RSTFlagCnt', 'PSHFlagCnt', 'ACKFlagCnt', 'URGFlagCnt', 'CWEFlagCount',\n",
       "       'ECEFlagCnt', 'Down/UpRatio', 'PktSizeAvg', 'FwdSegSizeAvg',\n",
       "       'BwdSegSizeAvg', 'FwdByts/bAvg', 'FwdPkts/bAvg', 'FwdBlkRateAvg',\n",
       "       'BwdByts/bAvg', 'BwdPkts/bAvg', 'BwdBlkRateAvg', 'SubflowFwdPkts',\n",
       "       'SubflowFwdByts', 'SubflowBwdPkts', 'SubflowBwdByts', 'InitFwdWinByts',\n",
       "       'InitBwdWinByts', 'FwdActDataPkts', 'FwdSegSizeMin', 'ActiveMean',\n",
       "       'ActiveStd', 'ActiveMax', 'ActiveMin', 'IdleMean', 'IdleStd', 'IdleMax',\n",
       "       'IdleMin', 'Label'],\n",
       "      dtype='object')"
      ]
     },
     "execution_count": 6,
     "metadata": {},
     "output_type": "execute_result"
    }
   ],
   "source": [
    "df.columns"
   ]
  },
  {
   "cell_type": "code",
   "execution_count": 7,
   "metadata": {},
   "outputs": [
    {
     "name": "stdout",
     "output_type": "stream",
     "text": [
      "False\n",
      "Index([], dtype='object')\n"
     ]
    }
   ],
   "source": [
    "print(df.isna().any().any())\n",
    "print(df.columns[df.isna().any()])"
   ]
  },
  {
   "cell_type": "code",
   "execution_count": 8,
   "metadata": {},
   "outputs": [
    {
     "name": "stdout",
     "output_type": "stream",
     "text": [
      "int_int = 104401\n",
      " int_ext = 0\n",
      " ext_int = 413076\n",
      " ext_ext = 0\n"
     ]
    },
    {
     "data": {
      "text/html": [
       "<div>\n",
       "<style scoped>\n",
       "    .dataframe tbody tr th:only-of-type {\n",
       "        vertical-align: middle;\n",
       "    }\n",
       "\n",
       "    .dataframe tbody tr th {\n",
       "        vertical-align: top;\n",
       "    }\n",
       "\n",
       "    .dataframe thead th {\n",
       "        text-align: right;\n",
       "    }\n",
       "</style>\n",
       "<table border=\"1\" class=\"dataframe\">\n",
       "  <thead>\n",
       "    <tr style=\"text-align: right;\">\n",
       "      <th></th>\n",
       "      <th>FlowID</th>\n",
       "      <th>SrcIP</th>\n",
       "      <th>SrcPort</th>\n",
       "      <th>DstIP</th>\n",
       "      <th>DstPort</th>\n",
       "      <th>Protocol</th>\n",
       "      <th>Timestamp</th>\n",
       "      <th>FlowDuration</th>\n",
       "      <th>TotFwdPkts</th>\n",
       "      <th>TotBwdPkts</th>\n",
       "      <th>...</th>\n",
       "      <th>IdleStd</th>\n",
       "      <th>IdleMax</th>\n",
       "      <th>IdleMin</th>\n",
       "      <th>Label</th>\n",
       "      <th>SrcPort_num</th>\n",
       "      <th>DstPort_num</th>\n",
       "      <th>SrcPort_type</th>\n",
       "      <th>DstPort_type</th>\n",
       "      <th>DstIP_internal</th>\n",
       "      <th>SrcIP_internal</th>\n",
       "    </tr>\n",
       "  </thead>\n",
       "  <tbody>\n",
       "    <tr>\n",
       "      <th>0</th>\n",
       "      <td>10.128.0.89.80.10.128.0.156.37986.6</td>\n",
       "      <td>10.128.0.89</td>\n",
       "      <td>80</td>\n",
       "      <td>10.128.0.156</td>\n",
       "      <td>37986</td>\n",
       "      <td>6</td>\n",
       "      <td>11/14/2019 20:01</td>\n",
       "      <td>127</td>\n",
       "      <td>0.000000</td>\n",
       "      <td>0.000026</td>\n",
       "      <td>...</td>\n",
       "      <td>0.0</td>\n",
       "      <td>0.0</td>\n",
       "      <td>0.0</td>\n",
       "      <td>Normal</td>\n",
       "      <td>80</td>\n",
       "      <td>37986</td>\n",
       "      <td>well-known</td>\n",
       "      <td>registered</td>\n",
       "      <td>True</td>\n",
       "      <td>True</td>\n",
       "    </tr>\n",
       "    <tr>\n",
       "      <th>1</th>\n",
       "      <td>76.107.124.18.60734.10.128.0.89.443.6</td>\n",
       "      <td>76.107.124.18</td>\n",
       "      <td>60734</td>\n",
       "      <td>10.128.0.89</td>\n",
       "      <td>443</td>\n",
       "      <td>6</td>\n",
       "      <td>11/21/2019 2:13</td>\n",
       "      <td>1101</td>\n",
       "      <td>0.000175</td>\n",
       "      <td>0.000000</td>\n",
       "      <td>...</td>\n",
       "      <td>0.0</td>\n",
       "      <td>0.0</td>\n",
       "      <td>0.0</td>\n",
       "      <td>Infilteration</td>\n",
       "      <td>60734</td>\n",
       "      <td>443</td>\n",
       "      <td>dynamic</td>\n",
       "      <td>well-known</td>\n",
       "      <td>True</td>\n",
       "      <td>False</td>\n",
       "    </tr>\n",
       "    <tr>\n",
       "      <th>2</th>\n",
       "      <td>76.107.124.22.53913.10.128.0.156.8080.6</td>\n",
       "      <td>76.107.124.22</td>\n",
       "      <td>53913</td>\n",
       "      <td>10.128.0.156</td>\n",
       "      <td>8080</td>\n",
       "      <td>6</td>\n",
       "      <td>11/18/2019 16:51</td>\n",
       "      <td>11036</td>\n",
       "      <td>0.000175</td>\n",
       "      <td>0.000104</td>\n",
       "      <td>...</td>\n",
       "      <td>0.0</td>\n",
       "      <td>0.0</td>\n",
       "      <td>0.0</td>\n",
       "      <td>Botnet</td>\n",
       "      <td>53913</td>\n",
       "      <td>8080</td>\n",
       "      <td>dynamic</td>\n",
       "      <td>registered</td>\n",
       "      <td>True</td>\n",
       "      <td>False</td>\n",
       "    </tr>\n",
       "    <tr>\n",
       "      <th>3</th>\n",
       "      <td>76.107.124.18.59881.10.128.0.183.3389.6</td>\n",
       "      <td>76.107.124.18</td>\n",
       "      <td>59881</td>\n",
       "      <td>10.128.0.183</td>\n",
       "      <td>3389</td>\n",
       "      <td>6</td>\n",
       "      <td>11/21/2019 2:09</td>\n",
       "      <td>1257069</td>\n",
       "      <td>0.000613</td>\n",
       "      <td>0.000182</td>\n",
       "      <td>...</td>\n",
       "      <td>0.0</td>\n",
       "      <td>0.0</td>\n",
       "      <td>0.0</td>\n",
       "      <td>Infilteration</td>\n",
       "      <td>59881</td>\n",
       "      <td>3389</td>\n",
       "      <td>dynamic</td>\n",
       "      <td>registered</td>\n",
       "      <td>True</td>\n",
       "      <td>False</td>\n",
       "    </tr>\n",
       "    <tr>\n",
       "      <th>4</th>\n",
       "      <td>76.107.124.18.62747.10.128.0.183.443.6</td>\n",
       "      <td>76.107.124.18</td>\n",
       "      <td>62747</td>\n",
       "      <td>10.128.0.183</td>\n",
       "      <td>443</td>\n",
       "      <td>6</td>\n",
       "      <td>11/21/2019 9:59</td>\n",
       "      <td>243913</td>\n",
       "      <td>0.000789</td>\n",
       "      <td>0.000208</td>\n",
       "      <td>...</td>\n",
       "      <td>0.0</td>\n",
       "      <td>0.0</td>\n",
       "      <td>0.0</td>\n",
       "      <td>Infilteration</td>\n",
       "      <td>62747</td>\n",
       "      <td>443</td>\n",
       "      <td>dynamic</td>\n",
       "      <td>well-known</td>\n",
       "      <td>True</td>\n",
       "      <td>False</td>\n",
       "    </tr>\n",
       "  </tbody>\n",
       "</table>\n",
       "<p>5 rows × 90 columns</p>\n",
       "</div>"
      ],
      "text/plain": [
       "                                    FlowID          SrcIP  SrcPort  \\\n",
       "0      10.128.0.89.80.10.128.0.156.37986.6    10.128.0.89       80   \n",
       "1    76.107.124.18.60734.10.128.0.89.443.6  76.107.124.18    60734   \n",
       "2  76.107.124.22.53913.10.128.0.156.8080.6  76.107.124.22    53913   \n",
       "3  76.107.124.18.59881.10.128.0.183.3389.6  76.107.124.18    59881   \n",
       "4   76.107.124.18.62747.10.128.0.183.443.6  76.107.124.18    62747   \n",
       "\n",
       "          DstIP  DstPort  Protocol         Timestamp  FlowDuration  \\\n",
       "0  10.128.0.156    37986         6  11/14/2019 20:01           127   \n",
       "1   10.128.0.89      443         6   11/21/2019 2:13          1101   \n",
       "2  10.128.0.156     8080         6  11/18/2019 16:51         11036   \n",
       "3  10.128.0.183     3389         6   11/21/2019 2:09       1257069   \n",
       "4  10.128.0.183      443         6   11/21/2019 9:59        243913   \n",
       "\n",
       "   TotFwdPkts  TotBwdPkts  ...  IdleStd  IdleMax  IdleMin          Label  \\\n",
       "0    0.000000    0.000026  ...      0.0      0.0      0.0         Normal   \n",
       "1    0.000175    0.000000  ...      0.0      0.0      0.0  Infilteration   \n",
       "2    0.000175    0.000104  ...      0.0      0.0      0.0         Botnet   \n",
       "3    0.000613    0.000182  ...      0.0      0.0      0.0  Infilteration   \n",
       "4    0.000789    0.000208  ...      0.0      0.0      0.0  Infilteration   \n",
       "\n",
       "   SrcPort_num  DstPort_num  SrcPort_type  DstPort_type  DstIP_internal  \\\n",
       "0           80        37986    well-known    registered            True   \n",
       "1        60734          443       dynamic    well-known            True   \n",
       "2        53913         8080       dynamic    registered            True   \n",
       "3        59881         3389       dynamic    registered            True   \n",
       "4        62747          443       dynamic    well-known            True   \n",
       "\n",
       "   SrcIP_internal  \n",
       "0            True  \n",
       "1           False  \n",
       "2           False  \n",
       "3           False  \n",
       "4           False  \n",
       "\n",
       "[5 rows x 90 columns]"
      ]
     },
     "execution_count": 8,
     "metadata": {},
     "output_type": "execute_result"
    }
   ],
   "source": [
    "srcPort_name = 'SourcePort'\n",
    "dstPort_name = 'DestinationPort'\n",
    "srcIP_name = 'SourceIP'\n",
    "dstIP_name = 'DestinationIP'\n",
    "\n",
    "internal_network1 = \"10.128.0.0/16\"\n",
    "internal_network2 = \"10.128.0.0/16\"\n",
    "\n",
    "\n",
    "df = uniformPorts(df, srcPort_name, dstPort_name)\n",
    "df = uniformIP(df, srcIP_name, dstIP_name, internal_network=internal_network1, internal_network2=internal_network2)\n",
    "df.head()"
   ]
  },
  {
   "cell_type": "code",
   "execution_count": 9,
   "metadata": {},
   "outputs": [
    {
     "data": {
      "text/plain": [
       "Index(['FlowID', 'SrcIP', 'SrcPort', 'DstIP', 'DstPort', 'Protocol',\n",
       "       'Timestamp', 'FlowDuration', 'TotFwdPkts', 'TotBwdPkts',\n",
       "       'TotLenFwdPkts', 'TotLenBwdPkts', 'FwdPktLenMax', 'FwdPktLenMin',\n",
       "       'FwdPktLenMean', 'FwdPktLenStd', 'BwdPktLenMax', 'BwdPktLenMin',\n",
       "       'BwdPktLenMean', 'BwdPktLenStd', 'FlowByts/s', 'FlowPkts/s',\n",
       "       'FlowIATMean', 'FlowIATStd', 'FlowIATMax', 'FlowIATMin', 'FwdIATTot',\n",
       "       'FwdIATMean', 'FwdIATStd', 'FwdIATMax', 'FwdIATMin', 'BwdIATTot',\n",
       "       'BwdIATMean', 'BwdIATStd', 'BwdIATMax', 'BwdIATMin', 'FwdPSHFlags',\n",
       "       'BwdPSHFlags', 'FwdURGFlags', 'BwdURGFlags', 'FwdHeaderLen',\n",
       "       'BwdHeaderLen', 'FwdPkts/s', 'BwdPkts/s', 'PktLenMin', 'PktLenMax',\n",
       "       'PktLenMean', 'PktLenStd', 'PktLenVar', 'FINFlagCnt', 'SYNFlagCnt',\n",
       "       'RSTFlagCnt', 'PSHFlagCnt', 'ACKFlagCnt', 'URGFlagCnt', 'CWEFlagCount',\n",
       "       'ECEFlagCnt', 'Down/UpRatio', 'PktSizeAvg', 'FwdSegSizeAvg',\n",
       "       'BwdSegSizeAvg', 'FwdByts/bAvg', 'FwdPkts/bAvg', 'FwdBlkRateAvg',\n",
       "       'BwdByts/bAvg', 'BwdPkts/bAvg', 'BwdBlkRateAvg', 'SubflowFwdPkts',\n",
       "       'SubflowFwdByts', 'SubflowBwdPkts', 'SubflowBwdByts', 'InitFwdWinByts',\n",
       "       'InitBwdWinByts', 'FwdActDataPkts', 'FwdSegSizeMin', 'ActiveMean',\n",
       "       'ActiveStd', 'ActiveMax', 'ActiveMin', 'IdleMean', 'IdleStd', 'IdleMax',\n",
       "       'IdleMin', 'Label', 'SrcPort_num', 'DstPort_num', 'SrcPort_type',\n",
       "       'DstPort_type', 'DstIP_internal', 'SrcIP_internal'],\n",
       "      dtype='object')"
      ]
     },
     "execution_count": 9,
     "metadata": {},
     "output_type": "execute_result"
    }
   ],
   "source": [
    "df.columns"
   ]
  },
  {
   "cell_type": "code",
   "execution_count": 10,
   "metadata": {},
   "outputs": [
    {
     "name": "stdout",
     "output_type": "stream",
     "text": [
      "['Normal' 'Infilteration' 'Botnet' 'DDoS' 'BruteForce']\n",
      "['BENIGN' 'Infiltration' 'Botnet' 'DDoS' 'BruteForce']\n"
     ]
    }
   ],
   "source": [
    "#'Normal', 'Infilteration', 'Botnet', 'DDoS', 'BruteForce'\n",
    "\n",
    "df['Label2'] = df['Label']\n",
    "df['Label2'] = np.where(df['Label2'].str.contains('Normal'), 'BENIGN', df['Label2'])\n",
    "df['Label2'] = np.where(df['Label2'].str.contains('Infilteration'), 'Infiltration', df['Label2'])\n",
    "df['Label_original'] = df['Label']\n",
    "df['Label'] = df['Label2']\n",
    "df = df.drop(['Label2'], axis=1)\n",
    "\n",
    "print(df['Label_original'].unique())\n",
    "print(df['Label'].unique())\n"
   ]
  },
  {
   "cell_type": "code",
   "execution_count": 11,
   "metadata": {},
   "outputs": [
    {
     "data": {
      "text/plain": [
       "Index(['FlowID', 'SrcIP', 'SrcPort', 'DstIP', 'DstPort', 'Protocol',\n",
       "       'Timestamp', 'FlowDuration', 'TotFwdPkts', 'TotBwdPkts',\n",
       "       'TotLenFwdPkts', 'TotLenBwdPkts', 'FwdPktLenMax', 'FwdPktLenMin',\n",
       "       'FwdPktLenMean', 'FwdPktLenStd', 'BwdPktLenMax', 'BwdPktLenMin',\n",
       "       'BwdPktLenMean', 'BwdPktLenStd', 'FlowByts/s', 'FlowPkts/s',\n",
       "       'FlowIATMean', 'FlowIATStd', 'FlowIATMax', 'FlowIATMin', 'FwdIATTot',\n",
       "       'FwdIATMean', 'FwdIATStd', 'FwdIATMax', 'FwdIATMin', 'BwdIATTot',\n",
       "       'BwdIATMean', 'BwdIATStd', 'BwdIATMax', 'BwdIATMin', 'FwdPSHFlags',\n",
       "       'BwdPSHFlags', 'FwdURGFlags', 'BwdURGFlags', 'FwdHeaderLen',\n",
       "       'BwdHeaderLen', 'FwdPkts/s', 'BwdPkts/s', 'PktLenMin', 'PktLenMax',\n",
       "       'PktLenMean', 'PktLenStd', 'PktLenVar', 'FINFlagCnt', 'SYNFlagCnt',\n",
       "       'RSTFlagCnt', 'PSHFlagCnt', 'ACKFlagCnt', 'URGFlagCnt', 'CWEFlagCount',\n",
       "       'ECEFlagCnt', 'Down/UpRatio', 'PktSizeAvg', 'FwdSegSizeAvg',\n",
       "       'BwdSegSizeAvg', 'FwdByts/bAvg', 'FwdPkts/bAvg', 'FwdBlkRateAvg',\n",
       "       'BwdByts/bAvg', 'BwdPkts/bAvg', 'BwdBlkRateAvg', 'SubflowFwdPkts',\n",
       "       'SubflowFwdByts', 'SubflowBwdPkts', 'SubflowBwdByts', 'InitFwdWinByts',\n",
       "       'InitBwdWinByts', 'FwdActDataPkts', 'FwdSegSizeMin', 'ActiveMean',\n",
       "       'ActiveStd', 'ActiveMax', 'ActiveMin', 'IdleMean', 'IdleStd', 'IdleMax',\n",
       "       'IdleMin', 'Label', 'SrcPort_num', 'DstPort_num', 'SrcPort_type',\n",
       "       'DstPort_type', 'DstIP_internal', 'SrcIP_internal', 'Label_original'],\n",
       "      dtype='object')"
      ]
     },
     "execution_count": 11,
     "metadata": {},
     "output_type": "execute_result"
    }
   ],
   "source": [
    "df.columns"
   ]
  },
  {
   "cell_type": "code",
   "execution_count": 12,
   "metadata": {},
   "outputs": [
    {
     "name": "stdout",
     "output_type": "stream",
     "text": [
      "Overall samples:  517477\n",
      "\t Benign:  139186\n",
      "\t Bot:  93021\n",
      "\t PortScan:  83857\n",
      "\t DDoS:  131211\n",
      "\t Infiltration:  70202\n",
      "517477\n"
     ]
    }
   ],
   "source": [
    "summa = 0\n",
    "print(\"Overall samples: \", len(df))\n",
    "benign_df = df[df['Label']=='BENIGN']\n",
    "summa = summa + len(benign_df)\n",
    "print(\"\\t Benign: \", len(benign_df))\n",
    "\n",
    "bot_df = df[df['Label']=='Botnet']\n",
    "summa = summa + len(bot_df)\n",
    "print(\"\\t Bot: \", len(bot_df))\n",
    "\n",
    "brute_df = df[df['Label']=='BruteForce']\n",
    "summa = summa + len(brute_df)\n",
    "print(\"\\t PortScan: \", len(brute_df))\n",
    "\n",
    "ddos_df = df[df['Label']=='DDoS']\n",
    "summa = summa + len(ddos_df)\n",
    "print(\"\\t DDoS: \", len(ddos_df))\n",
    "\n",
    "\n",
    "inf_df = df[df['Label']=='Infiltration']\n",
    "summa = summa + len(inf_df)\n",
    "print(\"\\t Infiltration: \", len(inf_df))\n",
    "\n",
    "print(summa)"
   ]
  },
  {
   "cell_type": "code",
   "execution_count": 13,
   "metadata": {},
   "outputs": [],
   "source": [
    "malicious_output_folder = output_folder + \"malicious\\\\\"\n",
    "\n",
    "benign_file = output_folder + \"benign.csv\"\n",
    "\n",
    "benign_df.to_csv(benign_file)\n",
    "\n",
    "bot_df.to_csv(malicious_output_folder + \"botnet.csv\")\n",
    "brute_df.to_csv(malicious_output_folder + \"bruteforce.csv\")\n",
    "inf_df.to_csv(malicious_output_folder + \"infiltration.csv\")\n",
    "ddos_df.to_csv(malicious_output_folder + \"ddos.csv\")"
   ]
  }
 ],
 "metadata": {
  "kernelspec": {
   "display_name": "Python 3 (ipykernel)",
   "language": "python",
   "name": "python3"
  },
  "language_info": {
   "codemirror_mode": {
    "name": "ipython",
    "version": 3
   },
   "file_extension": ".py",
   "mimetype": "text/x-python",
   "name": "python",
   "nbconvert_exporter": "python",
   "pygments_lexer": "ipython3",
   "version": "3.10.11"
  }
 },
 "nbformat": 4,
 "nbformat_minor": 4
}
