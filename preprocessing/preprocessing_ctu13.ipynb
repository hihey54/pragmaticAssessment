{
 "cells": [
  {
   "cell_type": "code",
   "execution_count": 1,
   "metadata": {},
   "outputs": [],
   "source": [
    "import pandas as pd, numpy as np\n",
    "import ipaddress"
   ]
  },
  {
   "cell_type": "code",
   "execution_count": null,
   "metadata": {},
   "outputs": [],
   "source": [
    "source_folder = \"source_folder\" # this is the folder that contains the four CSV files obtained after downloading and extracting the dataset\n",
    "output_folder = \"../data/CTU13/flows/\" # the output of this notebook will be saved in this folder\n",
    "\n",
    "\n",
    "file_names = [\n",
    "    \"2-neris.csv\",\n",
    "    \"3-rbot.csv\",\n",
    "    \"4-rbot.csv\",\n",
    "    \"5-virut.csv\",\n",
    "    \"6-donbot.csv\",\n",
    "    \"7-sogou.csv\",\n",
    "    \"8-murlo.csv\",\n",
    "    \"9-neris.csv\",\n",
    "    \"10-rbot.csv\",\n",
    "    \"11-rbot.csv\",\n",
    "    \"12-nsis.csv\",\n",
    "    \"13-virut.csv\"\n",
    "]\n",
    "\n",
    "\n",
    "df = pd.DataFrame()\n",
    "\n",
    "for f in file_names:\n",
    "    input_file = source_folder + f\n",
    "    temp_df = pd.read_csv(input_file)\n",
    "    print(\"Read {} lines...\".format(len(temp_df)))\n",
    "    #df = df.append(temp_df) # We used this command since we used pandas < 2.0\n",
    "    df = pd.concat([df, temp_df], ignore_index=True) # Use this if pandas >= 2.0\n",
    "    print(\"\\t...total length: {}\".format(len(df)))\n",
    "\n",
    "print(\"...done!\")"
   ]
  },
  {
   "cell_type": "code",
   "execution_count": 5,
   "metadata": {},
   "outputs": [
    {
     "data": {
      "text/plain": [
       "array(['BENIGN', 'neris', 'rbot', 'virut', 'donbot', 'sogou', 'murlo',\n",
       "       'nsis'], dtype=object)"
      ]
     },
     "execution_count": 5,
     "metadata": {},
     "output_type": "execute_result"
    }
   ],
   "source": [
    "df['Label2'].unique()"
   ]
  },
  {
   "cell_type": "code",
   "execution_count": 6,
   "metadata": {},
   "outputs": [
    {
     "data": {
      "text/plain": [
       "Index(['SrcAddr', 'DstAddr', 'Proto', 'Sport', 'Dport', 'State', 'sTos',\n",
       "       'dTos', 'SrcWin', 'DstWin', 'sHops', 'dHops', 'StartTime', 'LastTime',\n",
       "       'sTtl', 'dTtl', 'TcpRtt', 'SynAck', 'AckDat', 'SrcPkts', 'DstPkts',\n",
       "       'SrcBytes', 'DstBytes', 'SAppBytes', 'DAppBytes', 'Dur', 'TotPkts',\n",
       "       'TotBytes', 'TotAppByte', 'Rate', 'SrcRate', 'DstRate', 'Label',\n",
       "       'Label2'],\n",
       "      dtype='object')"
      ]
     },
     "execution_count": 6,
     "metadata": {},
     "output_type": "execute_result"
    }
   ],
   "source": [
    "df.columns"
   ]
  },
  {
   "cell_type": "code",
   "execution_count": 7,
   "metadata": {},
   "outputs": [],
   "source": [
    "df['SrcIP_dummy'] = df['SrcAddr']\n",
    "df['DstIP_dummy'] = df['DstAddr']\n",
    "df['DstIP_dummy'] = np.where(df['DstIP_dummy'].str.contains(':'), '0.0.0.0', df['DstIP_dummy'])\n",
    "df['SrcIP_dummy'] = np.where(df['SrcIP_dummy'].str.contains(':'), '0.0.0.0', df['SrcIP_dummy'])"
   ]
  },
  {
   "cell_type": "code",
   "execution_count": 8,
   "metadata": {},
   "outputs": [],
   "source": [
    "def fixValues(df):\n",
    "    # Function to fix NaNs and Infinite values\n",
    "    # NaNs are replaced with the MEAN\n",
    "    # Infinite are replaced with the MAX\n",
    "    \n",
    "    \n",
    "    import numpy as np\n",
    "    x = df#.copy(deep=True)\n",
    "    for c in x.columns:\n",
    "        if x[c].dtype == 'int' or x[c].dtype == 'float':\n",
    "            temp = np.asarray(x[c], dtype=np.float64)\n",
    "            # remove NaN & Infinity (if there are)\n",
    "            temp = temp[np.isfinite(temp)]\n",
    "            mean_value = temp.mean()\n",
    "            max_value = temp.max()\n",
    "            x[c].replace([np.inf, -np.inf], max_value, inplace=True)\n",
    "            x[c].replace([np.nan], mean_value, inplace=True)\n",
    "    \n",
    "    return x\n",
    "\n",
    "\n",
    "def uniformPorts(df, srcPort_name, dstPort_name):\n",
    "    # Function to uniformize well-known, registered and dynamic ports \n",
    "\n",
    "    df.rename({srcPort_name: 'SrcPort', dstPort_name: 'DstPort'}, axis=1, inplace=True)\n",
    "        \n",
    "    #converting strings to numeric\n",
    "    df['SrcPort_num'] = pd.to_numeric(df['SrcPort'], errors='coerce')\n",
    "    df['SrcPort_num'].replace([np.nan], -1, inplace=True)\n",
    "    df['DstPort_num'] = pd.to_numeric(df['DstPort'], errors='coerce')\n",
    "    df['DstPort_num'].replace([np.nan], -1, inplace=True)\n",
    "    #determining low&high ports\n",
    "    srcPort_conditions = [\n",
    "        (df['SrcPort_num'] == -1),\n",
    "        (df['SrcPort_num'] >= 0) & (df['SrcPort_num'] <= 1023),\n",
    "        (df['SrcPort_num'] >= 1024) & (df['SrcPort_num'] <= 49151),\n",
    "        (df['SrcPort_num'] > 49151)\n",
    "    ]\n",
    "    dstPort_conditions = [\n",
    "        (df['DstPort_num'] == -1),\n",
    "        (df['DstPort_num'] >= 0) & (df['DstPort_num'] <= 1023),\n",
    "        (df['DstPort_num'] >= 1024) & (df['DstPort_num'] <= 49151),\n",
    "        (df['DstPort_num'] > 49151)\n",
    "    ]    \n",
    "    port_choices = ['none','well-known','registered','dynamic']\n",
    "    df['SrcPort_type'] = np.select(srcPort_conditions, port_choices)\n",
    "    df['DstPort_type'] = np.select(dstPort_conditions, port_choices)\n",
    "    \n",
    "    return df\n",
    "\n",
    "def uniformIP(df, srcIP_name, dstIP_name, internal_network, *, internal_network2 = None):\n",
    "    # Function for assigning IPs to internal/external network\n",
    "    df.rename({srcIP_name: 'SrcIP', dstIP_name: 'DstIP'}, axis=1, inplace=True)\n",
    "    \n",
    "    if internal_network2 == None:\n",
    "        df['SrcIP_internal'] = df['SrcIP'].apply(ipaddress.ip_address).isin(ipaddress.ip_network(internal_network))\n",
    "        df['DstIP_internal'] = df['DstIP'].apply(ipaddress.ip_address).isin(ipaddress.ip_network(internal_network))\n",
    "    else:\n",
    "        df['SrcIP_internal1'] = df['SrcIP'].apply(ipaddress.ip_address).isin(ipaddress.ip_network(internal_network))\n",
    "        df['DstIP_internal1'] = df['DstIP'].apply(ipaddress.ip_address).isin(ipaddress.ip_network(internal_network))\n",
    "        df['SrcIP_internal2'] = df['SrcIP'].apply(ipaddress.ip_address).isin(ipaddress.ip_network(internal_network2))\n",
    "        df['DstIP_internal2'] = df['DstIP'].apply(ipaddress.ip_address).isin(ipaddress.ip_network(internal_network2))\n",
    "        \n",
    "        df['DstIP_internal'] = (df['DstIP_internal1']) | (df['DstIP_internal2'])\n",
    "        df['SrcIP_internal'] = (df['SrcIP_internal1']) | (df['SrcIP_internal2'])\n",
    "        \n",
    "        df.drop(columns=['SrcIP_internal1', 'SrcIP_internal2', 'DstIP_internal1', 'DstIP_internal2'], inplace=True)\n",
    "        \n",
    "    # check internal/external\n",
    "    int_int = df.loc[(df['SrcIP_internal'] == True) & (df['DstIP_internal'] == True)]\n",
    "    int_ext = df.loc[(df['SrcIP_internal'] == True) & (df['DstIP_internal'] == False)]\n",
    "    ext_int = df.loc[(df['SrcIP_internal'] == False) & (df['DstIP_internal'] == True)]\n",
    "    ext_ext = df.loc[(df['SrcIP_internal'] == False) & (df['DstIP_internal'] == False)]\n",
    "\n",
    "    print(\"int_int = {}\\n int_ext = {}\\n ext_int = {}\\n ext_ext = {}\".format(len(int_int), len(int_ext), len(ext_int), len(ext_ext)))\n",
    "        \n",
    "    return df"
   ]
  },
  {
   "cell_type": "code",
   "execution_count": 9,
   "metadata": {},
   "outputs": [
    {
     "data": {
      "text/plain": [
       "array(['BENIGN', 'neris', 'rbot', 'virut', 'donbot', 'sogou', 'murlo',\n",
       "       'nsis'], dtype=object)"
      ]
     },
     "execution_count": 9,
     "metadata": {},
     "output_type": "execute_result"
    }
   ],
   "source": [
    "df.columns = df.columns.str.replace(' ', '')\n",
    "df.columns = df.columns.str.replace(\"'\", \"\")\n",
    "df = fixValues(df)\n",
    "df['Label2'].unique()"
   ]
  },
  {
   "cell_type": "code",
   "execution_count": 10,
   "metadata": {},
   "outputs": [
    {
     "data": {
      "text/plain": [
       "Index(['SrcAddr', 'DstAddr', 'Proto', 'Sport', 'Dport', 'State', 'sTos',\n",
       "       'dTos', 'SrcWin', 'DstWin', 'sHops', 'dHops', 'StartTime', 'LastTime',\n",
       "       'sTtl', 'dTtl', 'TcpRtt', 'SynAck', 'AckDat', 'SrcPkts', 'DstPkts',\n",
       "       'SrcBytes', 'DstBytes', 'SAppBytes', 'DAppBytes', 'Dur', 'TotPkts',\n",
       "       'TotBytes', 'TotAppByte', 'Rate', 'SrcRate', 'DstRate', 'Label',\n",
       "       'Label2', 'SrcIP_dummy', 'DstIP_dummy'],\n",
       "      dtype='object')"
      ]
     },
     "execution_count": 10,
     "metadata": {},
     "output_type": "execute_result"
    }
   ],
   "source": [
    "df.columns"
   ]
  },
  {
   "cell_type": "code",
   "execution_count": 11,
   "metadata": {},
   "outputs": [
    {
     "name": "stdout",
     "output_type": "stream",
     "text": [
      "True\n",
      "Index(['Sport', 'Dport', 'State'], dtype='object')\n"
     ]
    }
   ],
   "source": [
    "print(df.isna().any().any())\n",
    "print(df.columns[df.isna().any()])"
   ]
  },
  {
   "cell_type": "code",
   "execution_count": 12,
   "metadata": {},
   "outputs": [
    {
     "name": "stdout",
     "output_type": "stream",
     "text": [
      "int_int = 8145092\n",
      " int_ext = 3677886\n",
      " ext_int = 5289411\n",
      " ext_ext = 39675\n"
     ]
    },
    {
     "data": {
      "text/html": [
       "<div>\n",
       "<style scoped>\n",
       "    .dataframe tbody tr th:only-of-type {\n",
       "        vertical-align: middle;\n",
       "    }\n",
       "\n",
       "    .dataframe tbody tr th {\n",
       "        vertical-align: top;\n",
       "    }\n",
       "\n",
       "    .dataframe thead th {\n",
       "        text-align: right;\n",
       "    }\n",
       "</style>\n",
       "<table border=\"1\" class=\"dataframe\">\n",
       "  <thead>\n",
       "    <tr style=\"text-align: right;\">\n",
       "      <th></th>\n",
       "      <th>SrcAddr</th>\n",
       "      <th>DstAddr</th>\n",
       "      <th>Proto</th>\n",
       "      <th>SrcPort</th>\n",
       "      <th>DstPort</th>\n",
       "      <th>State</th>\n",
       "      <th>sTos</th>\n",
       "      <th>dTos</th>\n",
       "      <th>SrcWin</th>\n",
       "      <th>DstWin</th>\n",
       "      <th>...</th>\n",
       "      <th>Label</th>\n",
       "      <th>Label2</th>\n",
       "      <th>SrcIP</th>\n",
       "      <th>DstIP</th>\n",
       "      <th>SrcPort_num</th>\n",
       "      <th>DstPort_num</th>\n",
       "      <th>SrcPort_type</th>\n",
       "      <th>DstPort_type</th>\n",
       "      <th>DstIP_internal</th>\n",
       "      <th>SrcIP_internal</th>\n",
       "    </tr>\n",
       "  </thead>\n",
       "  <tbody>\n",
       "    <tr>\n",
       "      <th>0</th>\n",
       "      <td>31.96.153.11</td>\n",
       "      <td>147.32.84.229</td>\n",
       "      <td>tcp</td>\n",
       "      <td>60257</td>\n",
       "      <td>443</td>\n",
       "      <td>RST</td>\n",
       "      <td>0.0</td>\n",
       "      <td>0.0</td>\n",
       "      <td>2097152.0</td>\n",
       "      <td>65535.0</td>\n",
       "      <td>...</td>\n",
       "      <td>flow=Background-TCP-Established</td>\n",
       "      <td>BENIGN</td>\n",
       "      <td>31.96.153.11</td>\n",
       "      <td>147.32.84.229</td>\n",
       "      <td>60257.0</td>\n",
       "      <td>443.0</td>\n",
       "      <td>dynamic</td>\n",
       "      <td>well-known</td>\n",
       "      <td>True</td>\n",
       "      <td>False</td>\n",
       "    </tr>\n",
       "    <tr>\n",
       "      <th>1</th>\n",
       "      <td>83.228.37.92</td>\n",
       "      <td>147.32.84.229</td>\n",
       "      <td>tcp</td>\n",
       "      <td>2571</td>\n",
       "      <td>13363</td>\n",
       "      <td>RST</td>\n",
       "      <td>0.0</td>\n",
       "      <td>0.0</td>\n",
       "      <td>65535.0</td>\n",
       "      <td>65535.0</td>\n",
       "      <td>...</td>\n",
       "      <td>flow=Background-TCP-Established</td>\n",
       "      <td>BENIGN</td>\n",
       "      <td>83.228.37.92</td>\n",
       "      <td>147.32.84.229</td>\n",
       "      <td>2571.0</td>\n",
       "      <td>13363.0</td>\n",
       "      <td>registered</td>\n",
       "      <td>registered</td>\n",
       "      <td>True</td>\n",
       "      <td>False</td>\n",
       "    </tr>\n",
       "    <tr>\n",
       "      <th>2</th>\n",
       "      <td>83.228.37.92</td>\n",
       "      <td>147.32.84.229</td>\n",
       "      <td>tcp</td>\n",
       "      <td>2574</td>\n",
       "      <td>443</td>\n",
       "      <td>RST</td>\n",
       "      <td>0.0</td>\n",
       "      <td>0.0</td>\n",
       "      <td>65535.0</td>\n",
       "      <td>65535.0</td>\n",
       "      <td>...</td>\n",
       "      <td>flow=Background-TCP-Established</td>\n",
       "      <td>BENIGN</td>\n",
       "      <td>83.228.37.92</td>\n",
       "      <td>147.32.84.229</td>\n",
       "      <td>2574.0</td>\n",
       "      <td>443.0</td>\n",
       "      <td>registered</td>\n",
       "      <td>well-known</td>\n",
       "      <td>True</td>\n",
       "      <td>False</td>\n",
       "    </tr>\n",
       "    <tr>\n",
       "      <th>3</th>\n",
       "      <td>83.228.37.92</td>\n",
       "      <td>147.32.84.229</td>\n",
       "      <td>tcp</td>\n",
       "      <td>2576</td>\n",
       "      <td>80</td>\n",
       "      <td>RST</td>\n",
       "      <td>0.0</td>\n",
       "      <td>0.0</td>\n",
       "      <td>65535.0</td>\n",
       "      <td>65535.0</td>\n",
       "      <td>...</td>\n",
       "      <td>flow=Background-TCP-Established</td>\n",
       "      <td>BENIGN</td>\n",
       "      <td>83.228.37.92</td>\n",
       "      <td>147.32.84.229</td>\n",
       "      <td>2576.0</td>\n",
       "      <td>80.0</td>\n",
       "      <td>registered</td>\n",
       "      <td>well-known</td>\n",
       "      <td>True</td>\n",
       "      <td>False</td>\n",
       "    </tr>\n",
       "    <tr>\n",
       "      <th>4</th>\n",
       "      <td>83.228.37.92</td>\n",
       "      <td>147.32.84.229</td>\n",
       "      <td>tcp</td>\n",
       "      <td>2571</td>\n",
       "      <td>13363</td>\n",
       "      <td>RST</td>\n",
       "      <td>0.0</td>\n",
       "      <td>0.0</td>\n",
       "      <td>65535.0</td>\n",
       "      <td>65535.0</td>\n",
       "      <td>...</td>\n",
       "      <td>flow=Background-TCP-Established</td>\n",
       "      <td>BENIGN</td>\n",
       "      <td>83.228.37.92</td>\n",
       "      <td>147.32.84.229</td>\n",
       "      <td>2571.0</td>\n",
       "      <td>13363.0</td>\n",
       "      <td>registered</td>\n",
       "      <td>registered</td>\n",
       "      <td>True</td>\n",
       "      <td>False</td>\n",
       "    </tr>\n",
       "  </tbody>\n",
       "</table>\n",
       "<p>5 rows × 42 columns</p>\n",
       "</div>"
      ],
      "text/plain": [
       "        SrcAddr        DstAddr Proto SrcPort DstPort State  sTos  dTos  \\\n",
       "0  31.96.153.11  147.32.84.229   tcp   60257     443   RST   0.0   0.0   \n",
       "1  83.228.37.92  147.32.84.229   tcp    2571   13363   RST   0.0   0.0   \n",
       "2  83.228.37.92  147.32.84.229   tcp    2574     443   RST   0.0   0.0   \n",
       "3  83.228.37.92  147.32.84.229   tcp    2576      80   RST   0.0   0.0   \n",
       "4  83.228.37.92  147.32.84.229   tcp    2571   13363   RST   0.0   0.0   \n",
       "\n",
       "      SrcWin   DstWin  ...                            Label  Label2  \\\n",
       "0  2097152.0  65535.0  ...  flow=Background-TCP-Established  BENIGN   \n",
       "1    65535.0  65535.0  ...  flow=Background-TCP-Established  BENIGN   \n",
       "2    65535.0  65535.0  ...  flow=Background-TCP-Established  BENIGN   \n",
       "3    65535.0  65535.0  ...  flow=Background-TCP-Established  BENIGN   \n",
       "4    65535.0  65535.0  ...  flow=Background-TCP-Established  BENIGN   \n",
       "\n",
       "          SrcIP          DstIP  SrcPort_num  DstPort_num  SrcPort_type  \\\n",
       "0  31.96.153.11  147.32.84.229      60257.0        443.0       dynamic   \n",
       "1  83.228.37.92  147.32.84.229       2571.0      13363.0    registered   \n",
       "2  83.228.37.92  147.32.84.229       2574.0        443.0    registered   \n",
       "3  83.228.37.92  147.32.84.229       2576.0         80.0    registered   \n",
       "4  83.228.37.92  147.32.84.229       2571.0      13363.0    registered   \n",
       "\n",
       "   DstPort_type  DstIP_internal  SrcIP_internal  \n",
       "0    well-known            True           False  \n",
       "1    registered            True           False  \n",
       "2    well-known            True           False  \n",
       "3    well-known            True           False  \n",
       "4    registered            True           False  \n",
       "\n",
       "[5 rows x 42 columns]"
      ]
     },
     "execution_count": 12,
     "metadata": {},
     "output_type": "execute_result"
    }
   ],
   "source": [
    "srcPort_name = 'Sport'\n",
    "dstPort_name = 'Dport'\n",
    "srcIP_name = 'SrcIP_dummy'\n",
    "dstIP_name = 'DstIP_dummy'\n",
    "\n",
    "\n",
    "\n",
    "internal_network1 = \"147.32.0.0/16\"\n",
    "internal_network2 = \"147.32.0.0/16\"\n",
    "\n",
    "\n",
    "df = uniformPorts(df, srcPort_name, dstPort_name)\n",
    "df = uniformIP(df, srcIP_name, dstIP_name, internal_network=internal_network1, internal_network2=internal_network2)\n",
    "df.head()"
   ]
  },
  {
   "cell_type": "code",
   "execution_count": 13,
   "metadata": {},
   "outputs": [
    {
     "data": {
      "text/plain": [
       "Index(['SrcAddr', 'DstAddr', 'Proto', 'SrcPort', 'DstPort', 'State', 'sTos',\n",
       "       'dTos', 'SrcWin', 'DstWin', 'sHops', 'dHops', 'StartTime', 'LastTime',\n",
       "       'sTtl', 'dTtl', 'TcpRtt', 'SynAck', 'AckDat', 'SrcPkts', 'DstPkts',\n",
       "       'SrcBytes', 'DstBytes', 'SAppBytes', 'DAppBytes', 'Dur', 'TotPkts',\n",
       "       'TotBytes', 'TotAppByte', 'Rate', 'SrcRate', 'DstRate', 'Label',\n",
       "       'Label2', 'SrcIP', 'DstIP', 'SrcPort_num', 'DstPort_num',\n",
       "       'SrcPort_type', 'DstPort_type', 'DstIP_internal', 'SrcIP_internal'],\n",
       "      dtype='object')"
      ]
     },
     "execution_count": 13,
     "metadata": {},
     "output_type": "execute_result"
    }
   ],
   "source": [
    "df.columns"
   ]
  },
  {
   "cell_type": "code",
   "execution_count": 14,
   "metadata": {},
   "outputs": [],
   "source": [
    "df = df.drop(columns=['SrcIP', 'DstIP', 'SrcPort', 'DstPort'])\n",
    "df = df.rename(columns={\"SrcAddr\": \"SrcIP\", \n",
    "                        \"DstAddr\": \"DstIP\", \n",
    "                        \"SrcPort_num\":\"SrcPort\", \n",
    "                        \"DstPort_num\":\"DstPort\", \n",
    "                        \"Label\": \"Label_original\", \n",
    "                        \"Label2\": \"Label\"})"
   ]
  },
  {
   "cell_type": "code",
   "execution_count": 15,
   "metadata": {},
   "outputs": [
    {
     "data": {
      "text/plain": [
       "array(['BENIGN', 'neris', 'rbot', 'virut', 'donbot', 'sogou', 'murlo',\n",
       "       'nsis'], dtype=object)"
      ]
     },
     "execution_count": 15,
     "metadata": {},
     "output_type": "execute_result"
    }
   ],
   "source": [
    "df['Label'].unique()"
   ]
  },
  {
   "cell_type": "code",
   "execution_count": 16,
   "metadata": {},
   "outputs": [
    {
     "data": {
      "text/plain": [
       "'neris'"
      ]
     },
     "execution_count": 16,
     "metadata": {},
     "output_type": "execute_result"
    }
   ],
   "source": [
    "label_list = df['Label'].unique()\n",
    "label_list[1]"
   ]
  },
  {
   "cell_type": "code",
   "execution_count": 17,
   "metadata": {},
   "outputs": [
    {
     "name": "stdout",
     "output_type": "stream",
     "text": [
      "\t BENIGN:  16748326\n",
      "\t neris:  205928\n",
      "\t rbot:  143918\n",
      "\t virut:  40904\n",
      "\t donbot:  4630\n",
      "\t sogou:  63\n",
      "\t murlo:  6127\n",
      "\t nsis:  2168\n",
      "Overall samples:  17152064\n",
      "17152064\n"
     ]
    }
   ],
   "source": [
    "summa = 0\n",
    "for l in label_list:\n",
    "    exec(f\"{l}_df = df[df['Label']=='{l}']\")\n",
    "    exec(f\"summa = summa + len({l}_df)\")\n",
    "    exec(f\"print('\\t {l}: ', len({l}_df))\")\n",
    "print(\"Overall samples: \", len(df))\n",
    "print(summa)"
   ]
  },
  {
   "cell_type": "code",
   "execution_count": 18,
   "metadata": {},
   "outputs": [
    {
     "data": {
      "text/plain": [
       "205928"
      ]
     },
     "execution_count": 18,
     "metadata": {},
     "output_type": "execute_result"
    }
   ],
   "source": [
    "# 'neris', 'rbot', 'virut', 'donbot', 'sogou', 'murlo', 'nsis'\n",
    "\n",
    "len(neris_df)\n"
   ]
  },
  {
   "cell_type": "code",
   "execution_count": null,
   "outputs": [],
   "source": [
    "malicious_output_folder = output_folder + \"malicious\\\\\"\n",
    "\n",
    "benign_file = output_folder + \"benign.csv\"\n",
    "\n",
    "BENIGN_df.to_csv(benign_file, index=False)\n",
    "\n",
    "neris_df.to_csv(malicious_output_folder + \"neris.csv\", index=False)\n",
    "rbot_df.to_csv(malicious_output_folder + \"rbot.csv\", index=False)\n",
    "virut_df.to_csv(malicious_output_folder + \"virut.csv\", index=False)\n",
    "donbot_df.to_csv(malicious_output_folder + \"donbot.csv\", index=False)\n",
    "sogou_df.to_csv(malicious_output_folder + \"sogou.csv\", index=False)\n",
    "murlo_df.to_csv(malicious_output_folder + \"murlo.csv\", index=False)\n",
    "nsis_df.to_csv(malicious_output_folder + \"nsis.csv\", index=False)"
   ],
   "metadata": {
    "collapsed": false
   }
  }
 ],
 "metadata": {
  "kernelspec": {
   "display_name": "Python 3 (ipykernel)",
   "language": "python",
   "name": "python3"
  },
  "language_info": {
   "codemirror_mode": {
    "name": "ipython",
    "version": 3
   },
   "file_extension": ".py",
   "mimetype": "text/x-python",
   "name": "python",
   "nbconvert_exporter": "python",
   "pygments_lexer": "ipython3",
   "version": "3.10.11"
  }
 },
 "nbformat": 4,
 "nbformat_minor": 4
}
